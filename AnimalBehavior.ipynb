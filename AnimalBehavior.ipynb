{
  "nbformat": 4,
  "nbformat_minor": 0,
  "metadata": {
    "colab": {
      "provenance": [],
      "authorship_tag": "ABX9TyPGhiWcaLlS7wHW596DLV3l",
      "include_colab_link": true
    },
    "kernelspec": {
      "name": "python3",
      "display_name": "Python 3"
    },
    "language_info": {
      "name": "python"
    }
  },
  "cells": [
    {
      "cell_type": "markdown",
      "metadata": {
        "id": "view-in-github",
        "colab_type": "text"
      },
      "source": [
        "<a href=\"https://colab.research.google.com/github/jdog1475/Jayson-Rabinowitz/blob/main/AnimalBehavior.ipynb\" target=\"_parent\"><img src=\"https://colab.research.google.com/assets/colab-badge.svg\" alt=\"Open In Colab\"/></a>"
      ]
    },
    {
      "cell_type": "code",
      "execution_count": 2,
      "metadata": {
        "id": "TJExWpliH-KZ"
      },
      "outputs": [],
      "source": [
        "class Animal:\n",
        "  # This is the constructor method used to initialize the\n",
        "  # behavior for each instant\n",
        "  # of the class\n",
        "  def __init__(self, nerv_sys, resp_sys, life_exp, gender):\n",
        "    self.nerv_sys = nerv_sys # This is an attribute's initialization\n",
        "    self.resp_sys = resp_sys\n",
        "    self.life_exp = life_exp\n",
        "    self.gender = gender\n",
        "    self.x = 0\n",
        "\n"
      ]
    },
    {
      "cell_type": "code",
      "source": [
        "class Car:\n",
        "  def __init__(self, make, model, year):\n",
        "    self.make = make\n",
        "    self.model = model\n",
        "    self.year = year\n",
        "    self.utility = \"SUV\"\n",
        "\n",
        "  def get_make(self):\n",
        "    return self.make\n",
        "\n",
        "  def accelerate(self):\n",
        "    print(\"The car accelerates!\")\n",
        "\n",
        "  def decelerate(self):\n",
        "     print(\"The car decelerates!\")\n"
      ],
      "metadata": {
        "id": "erz16GXYW5FC"
      },
      "execution_count": 18,
      "outputs": []
    },
    {
      "cell_type": "code",
      "source": [
        "\n",
        "c = Car(make='Ford', model=150, year=2023)\n",
        "d = Car(make='Tesla', model='s', year=2023)\n"
      ],
      "metadata": {
        "id": "VmPcPBtvXulY"
      },
      "execution_count": 19,
      "outputs": []
    },
    {
      "cell_type": "code",
      "source": [
        "c.accelerate()"
      ],
      "metadata": {
        "colab": {
          "base_uri": "https://localhost:8080/"
        },
        "id": "bYWGHFS9a6UW",
        "outputId": "0f894421-77de-4ac7-ac55-4731e6f1a750"
      },
      "execution_count": 20,
      "outputs": [
        {
          "output_type": "stream",
          "name": "stdout",
          "text": [
            "The car accelerates!\n"
          ]
        }
      ]
    },
    {
      "cell_type": "code",
      "source": [
        "d.make"
      ],
      "metadata": {
        "colab": {
          "base_uri": "https://localhost:8080/",
          "height": 35
        },
        "id": "bEW5fCk3bJMD",
        "outputId": "2e012c20-78ab-41ad-cffa-be79fd1ee56c"
      },
      "execution_count": 21,
      "outputs": [
        {
          "output_type": "execute_result",
          "data": {
            "text/plain": [
              "'Tesla'"
            ],
            "application/vnd.google.colaboratory.intrinsic+json": {
              "type": "string"
            }
          },
          "metadata": {},
          "execution_count": 21
        }
      ]
    },
    {
      "cell_type": "code",
      "source": [
        "d.get_make()"
      ],
      "metadata": {
        "colab": {
          "base_uri": "https://localhost:8080/",
          "height": 35
        },
        "id": "DrHG96c7eaCC",
        "outputId": "4c16651d-b863-4447-f64e-ad84ccfe0fbe"
      },
      "execution_count": 22,
      "outputs": [
        {
          "output_type": "execute_result",
          "data": {
            "text/plain": [
              "'Tesla'"
            ],
            "application/vnd.google.colaboratory.intrinsic+json": {
              "type": "string"
            }
          },
          "metadata": {},
          "execution_count": 22
        }
      ]
    },
    {
      "cell_type": "code",
      "source": [],
      "metadata": {
        "id": "TRa7tF6Uc41V"
      },
      "execution_count": null,
      "outputs": []
    }
  ]
}