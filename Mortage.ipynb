{
  "nbformat": 4,
  "nbformat_minor": 0,
  "metadata": {
    "colab": {
      "provenance": [],
      "authorship_tag": "ABX9TyMJjUIQK/qmycKeCTeUqvh2",
      "include_colab_link": true
    },
    "kernelspec": {
      "name": "python3",
      "display_name": "Python 3"
    },
    "language_info": {
      "name": "python"
    }
  },
  "cells": [
    {
      "cell_type": "markdown",
      "metadata": {
        "id": "view-in-github",
        "colab_type": "text"
      },
      "source": [
        "<a href=\"https://colab.research.google.com/github/jdog1475/Jayson-Rabinowitz/blob/main/Mortage.ipynb\" target=\"_parent\"><img src=\"https://colab.research.google.com/assets/colab-badge.svg\" alt=\"Open In Colab\"/></a>"
      ]
    },
    {
      "cell_type": "code",
      "execution_count": null,
      "metadata": {
        "id": "ISh7BjZrF0hF"
      },
      "outputs": [],
      "source": [
        "class Mortgage:\n",
        "  def __init__(self, amount, maturity, interest):\n",
        "    self.amount = amount\n",
        "    self.maturity = maturity\n",
        "    self.__interest = interest\n",
        "  def __str__(self):\n",
        "    return f'Mortage info:\\n Intial loan amount: {self.amount}\\n Maturity terms: {self.maturity}(years)\\n Interest rates'\n",
        "\n",
        "  def get_interest(self):\n",
        "    return self.__interest\n",
        "\n",
        "  def set_interest(self, newInterest):\n",
        "    if newInterest >= 0:\n",
        "      self.interest = newInterest\n",
        "    else:\n",
        "      print('Interst must be non-negatiobable')\n",
        "\n",
        "  def payment(self):\n",
        "    B = self.amount\n",
        "    n = self.maturity * 12\n",
        "    r = self.__interest / 100"
      ]
    },
    {
      "cell_type": "code",
      "source": [
        "class A:\n",
        "  def __init__(self, item):\n",
        "    self.item = item\n",
        "  def whoAmI(self):\n",
        "    print('I am a an intsance of class A')\n",
        "  def __repr__(self):\n",
        "    return f'item: {self.item}'\n",
        "  def __add__(self, other):\n",
        "    return self.item + other.item\n",
        "\n",
        "class B:\n",
        "  def __init__(self, item):\n",
        "    self.item = item\n",
        "  def whoAmI(self):\n",
        "    print('I am a instance of class B')\n",
        "\n",
        "a1 = A(2)\n",
        "a2 = A(5)\n",
        "b = B(3)"
      ],
      "metadata": {
        "id": "6aPqXVB9GXKO"
      },
      "execution_count": null,
      "outputs": []
    },
    {
      "cell_type": "code",
      "source": [
        "b.whoAmI()"
      ],
      "metadata": {
        "colab": {
          "base_uri": "https://localhost:8080/"
        },
        "id": "rxzu--ilG3Zg",
        "outputId": "eac8c043-4e21-4f94-fc84-d8ee2a07abd5"
      },
      "execution_count": null,
      "outputs": [
        {
          "output_type": "stream",
          "name": "stdout",
          "text": [
            "I am a instance of class B\n"
          ]
        }
      ]
    },
    {
      "cell_type": "code",
      "source": [
        "print(a1)"
      ],
      "metadata": {
        "colab": {
          "base_uri": "https://localhost:8080/"
        },
        "id": "tGOQ-OJsG3jT",
        "outputId": "0e38ebe0-e9ca-4815-8349-5c2c58b59c6a"
      },
      "execution_count": null,
      "outputs": [
        {
          "output_type": "stream",
          "name": "stdout",
          "text": [
            "item: 2\n"
          ]
        }
      ]
    },
    {
      "cell_type": "code",
      "source": [
        "a1 + a2"
      ],
      "metadata": {
        "colab": {
          "base_uri": "https://localhost:8080/"
        },
        "id": "PrljAf-TJiW5",
        "outputId": "687860cc-11a1-455d-c98d-83b02ad03e3d"
      },
      "execution_count": null,
      "outputs": [
        {
          "output_type": "execute_result",
          "data": {
            "text/plain": [
              "7"
            ]
          },
          "metadata": {},
          "execution_count": 23
        }
      ]
    }
  ]
}