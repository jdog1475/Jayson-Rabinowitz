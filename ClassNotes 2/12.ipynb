{
  "nbformat": 4,
  "nbformat_minor": 0,
  "metadata": {
    "colab": {
      "provenance": [],
      "authorship_tag": "ABX9TyO16Z21uf9AP9+42iRlY94a",
      "include_colab_link": true
    },
    "kernelspec": {
      "name": "python3",
      "display_name": "Python 3"
    },
    "language_info": {
      "name": "python"
    }
  },
  "cells": [
    {
      "cell_type": "markdown",
      "metadata": {
        "id": "view-in-github",
        "colab_type": "text"
      },
      "source": [
        "<a href=\"https://colab.research.google.com/github/jdog1475/Jayson-Rabinowitz/blob/main/ClassNotes%202/12.ipynb\" target=\"_parent\"><img src=\"https://colab.research.google.com/assets/colab-badge.svg\" alt=\"Open In Colab\"/></a>"
      ]
    },
    {
      "cell_type": "code",
      "source": [
        "while True:\n",
        "  Inputfunction:str(input(\"function:\"))\n",
        "  x=float(input(\"x:\"))\n",
        "  y=float(input(\"y:\"))\n",
        "  if Inputfunction ==\"break\":\n",
        "    break\n",
        "  elif Inputfunction ==\"multiply\":\n",
        "    z=x*y\n",
        "  elif Inputfunction==\"add\":\n",
        "    z=x+y\n",
        "  elif Inputfunction==\"subtract\":\n",
        "    z=x-y\n",
        "  elif Inputfunction==\"divide\":\n",
        "    z=x/y\n",
        "  elif Inputfunction==\"power\":\n",
        "    z=x**y\n",
        "  elif Inputfunction==\"floor divide\":\n",
        "    z=x/y\n",
        "  elif Inputfunction==\"remainder division\":\n",
        "    z=x%y\n",
        "  else:\n",
        "      print(\"Invalid Operator\"):\n",
        "      continue\n",
        "  print(z)"
      ],
      "metadata": {
        "colab": {
          "base_uri": "https://localhost:8080/",
          "height": 141
        },
        "id": "o0cNvcfg6GvI",
        "outputId": "98dfc7b2-9938-4047-eadb-1f0e74d1369f"
      },
      "execution_count": 36,
      "outputs": [
        {
          "output_type": "error",
          "ename": "SyntaxError",
          "evalue": "invalid syntax (<ipython-input-36-4961b4496392>, line 22)",
          "traceback": [
            "\u001b[0;36m  File \u001b[0;32m\"<ipython-input-36-4961b4496392>\"\u001b[0;36m, line \u001b[0;32m22\u001b[0m\n\u001b[0;31m    print(\"Invalid Operator\"):\u001b[0m\n\u001b[0m                             ^\u001b[0m\n\u001b[0;31mSyntaxError\u001b[0m\u001b[0;31m:\u001b[0m invalid syntax\n"
          ]
        }
      ]
    }
  ]
}