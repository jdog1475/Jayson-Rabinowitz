{
  "nbformat": 4,
  "nbformat_minor": 0,
  "metadata": {
    "colab": {
      "provenance": [],
      "include_colab_link": true
    },
    "kernelspec": {
      "name": "python3",
      "display_name": "Python 3"
    },
    "language_info": {
      "name": "python"
    }
  },
  "cells": [
    {
      "cell_type": "markdown",
      "metadata": {
        "id": "view-in-github",
        "colab_type": "text"
      },
      "source": [
        "<a href=\"https://colab.research.google.com/github/jdog1475/Jayson-Rabinowitz/blob/main/RockPaperScissor.ipynb\" target=\"_parent\"><img src=\"https://colab.research.google.com/assets/colab-badge.svg\" alt=\"Open In Colab\"/></a>"
      ]
    },
    {
      "cell_type": "code",
      "source": [
        "#The rule is that a year is considered a leap year if it is\n",
        "#divisible by four, except for years that are divisible by 100.\n",
        "#However, if a year is divisible by 400, then it is still considered a leap year.\n",
        "\n",
        "x= input('Choose a year:')\n",
        "if x%4= 0 and x%100 != 0:\n",
        "print('Leap year')"
      ],
      "metadata": {
        "colab": {
          "base_uri": "https://localhost:8080/",
          "height": 143
        },
        "id": "WimMFlRxdgc2",
        "outputId": "e53d2b98-b3a9-476d-8b92-a232a39457e9"
      },
      "execution_count": null,
      "outputs": [
        {
          "output_type": "error",
          "ename": "SyntaxError",
          "evalue": "cannot assign to expression here. Maybe you meant '==' instead of '='? (<ipython-input-53-9cf67fc9c35c>, line 6)",
          "traceback": [
            "\u001b[0;36m  File \u001b[0;32m\"<ipython-input-53-9cf67fc9c35c>\"\u001b[0;36m, line \u001b[0;32m6\u001b[0m\n\u001b[0;31m    if x%4= 0 and x%100 != 0:\u001b[0m\n\u001b[0m       ^\u001b[0m\n\u001b[0;31mSyntaxError\u001b[0m\u001b[0;31m:\u001b[0m cannot assign to expression here. Maybe you meant '==' instead of '='?\n"
          ]
        }
      ]
    },
    {
      "cell_type": "code",
      "source": [
        "userinput = input('Start? (y: yes n: no)')\n",
        "while userinput == 'y':\n",
        "  import random\n",
        "  pc_choice = random.choice(['rock','paper','scissors']).lower()\n",
        "  x= input('Choose: Rock, Paper, or Scissors? ').lower()\n",
        "  print(f'The PC chose {pc_choice}')\n",
        "  if pc_choice == x:\n",
        "    print('Tie')\n",
        "  elif pc_choice == 'rock' and x == 'scissors' or pc_choice == 'scissors' and x == 'paper' or pc_choice == 'paper' and x == 'rock':\n",
        "    print('PC wins')\n",
        "  else:\n",
        "    print('User wins')\n",
        "  userinput = input('Continue? (y: yes n: no)')"
      ],
      "metadata": {
        "colab": {
          "base_uri": "https://localhost:8080/"
        },
        "id": "SeNTcikjZUpB",
        "outputId": "afaff233-1d46-4fd0-eb40-21778bdda5f6"
      },
      "execution_count": null,
      "outputs": [
        {
          "name": "stdout",
          "output_type": "stream",
          "text": [
            "Start? (y: yes n: no)y\n",
            "Choose: Rock, Paper, or Scissors? Paper\n",
            "The PC chose scissors\n",
            "PC wins\n",
            "Continue? (y: yes n: no)n\n"
          ]
        }
      ]
    },
    {
      "cell_type": "code",
      "source": [
        "import random\n",
        "pc_choice = random.choice(['rock','paper','scissors']).lower()\n",
        "x= input('Choose: Rock, Paper, or Scissors?').lower()\n",
        "print(f'The PC chose {pc_choice}')\n",
        "if pc_choice == x:\n",
        "  print('tie')\n",
        "elif pc_choice == 'rock' and x == 'scissors':\n",
        "  print('PC wins')\n",
        "elif x == 'rock' and pc_choice == 'scissors':\n",
        "  print('User wins')\n",
        "elif pc_choice == 'scissors' and x == 'paper':\n",
        "  print('PC wins')\n",
        "elif x == 'scissors' and pc_choice == 'paper':\n",
        "  print('User wins')\n",
        "elif pc_choice == 'paper' and x == 'rock':\n",
        "  print('PC wins')\n",
        "elif x == 'paper' and pc_choice == 'rock':\n",
        "  print('User wins')\n",
        "\n",
        "\n",
        "\n",
        "\n",
        "\n",
        "\n"
      ],
      "metadata": {
        "colab": {
          "base_uri": "https://localhost:8080/"
        },
        "id": "yEvT6iClVxce",
        "outputId": "ebc946bc-c833-4c67-f95c-975cac2c05bc"
      },
      "execution_count": null,
      "outputs": [
        {
          "output_type": "stream",
          "name": "stdout",
          "text": [
            "Choose: Rock, Paper, or Scissors?paper\n",
            "The PC chose rock\n",
            "User wins\n"
          ]
        }
      ]
    },
    {
      "cell_type": "code",
      "source": [
        "()"
      ],
      "metadata": {
        "id": "rGHegVppanrl"
      },
      "execution_count": null,
      "outputs": []
    }
  ]
}