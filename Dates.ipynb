{
  "nbformat": 4,
  "nbformat_minor": 0,
  "metadata": {
    "colab": {
      "provenance": [],
      "authorship_tag": "ABX9TyPoUhKU4yVad5yeXpoQ77cF",
      "include_colab_link": true
    },
    "kernelspec": {
      "name": "python3",
      "display_name": "Python 3"
    },
    "language_info": {
      "name": "python"
    }
  },
  "cells": [
    {
      "cell_type": "markdown",
      "metadata": {
        "id": "view-in-github",
        "colab_type": "text"
      },
      "source": [
        "<a href=\"https://colab.research.google.com/github/jdog1475/Jayson-Rabinowitz/blob/main/Dates.ipynb\" target=\"_parent\"><img src=\"https://colab.research.google.com/assets/colab-badge.svg\" alt=\"Open In Colab\"/></a>"
      ]
    },
    {
      "cell_type": "code",
      "execution_count": 1,
      "metadata": {
        "colab": {
          "base_uri": "https://localhost:8080/"
        },
        "id": "_sRtXgH_y43s",
        "outputId": "e8ffa8d9-e980-4611-9a16-7fb94fb67915"
      },
      "outputs": [
        {
          "output_type": "stream",
          "name": "stdout",
          "text": [
            "Enter date (MM/DD/YYYY): 06/21/2004\n",
            "06 21 2004\n"
          ]
        }
      ],
      "source": [
        "date = input('Enter date (MM/DD/YYYY): ')\n",
        "\n",
        "month = date[:2]\n",
        "day = date[3:5]\n",
        "year = date[6:]\n",
        "print(month, day, year)"
      ]
    }
  ]
}