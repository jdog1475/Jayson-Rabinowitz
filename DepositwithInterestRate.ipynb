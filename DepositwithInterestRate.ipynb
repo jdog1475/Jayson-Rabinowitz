{
  "nbformat": 4,
  "nbformat_minor": 0,
  "metadata": {
    "colab": {
      "provenance": [],
      "authorship_tag": "ABX9TyNQJ7komHyxY0JkdHOBoPSl",
      "include_colab_link": true
    },
    "kernelspec": {
      "name": "python3",
      "display_name": "Python 3"
    },
    "language_info": {
      "name": "python"
    }
  },
  "cells": [
    {
      "cell_type": "markdown",
      "metadata": {
        "id": "view-in-github",
        "colab_type": "text"
      },
      "source": [
        "<a href=\"https://colab.research.google.com/github/jdog1475/Jayson-Rabinowitz/blob/main/DepositwithInterestRate.ipynb\" target=\"_parent\"><img src=\"https://colab.research.google.com/assets/colab-badge.svg\" alt=\"Open In Colab\"/></a>"
      ]
    },
    {
      "cell_type": "code",
      "execution_count": null,
      "metadata": {
        "colab": {
          "base_uri": "https://localhost:8080/"
        },
        "id": "xsJT6EWwByNV",
        "outputId": "f9ff619f-e64a-43c7-a23f-4cccde783ec1"
      },
      "outputs": [
        {
          "output_type": "stream",
          "name": "stdout",
          "text": [
            "2\n"
          ]
        }
      ],
      "source": [
        "x=2\n",
        "print(x)\n"
      ]
    },
    {
      "cell_type": "code",
      "source": [
        "deposit= float(input('Enter deposit amount: '))\n",
        "if deposit > 10000:\n",
        "   ir=3.5\n",
        "elif deposit <= 1000:\n",
        "    ir=3\n",
        "else:\n",
        "    ir=3.25\n",
        "\n",
        "total= (1+ir/100) * deposit\n",
        "print(f'deposit at the end of the year: {round(total,2)}')\n"
      ],
      "metadata": {
        "id": "YJfJ8eEzB0gu",
        "outputId": "2d754a66-2c88-4bf8-8129-d3fe32f61735",
        "colab": {
          "base_uri": "https://localhost:8080/"
        }
      },
      "execution_count": 1,
      "outputs": [
        {
          "output_type": "stream",
          "name": "stdout",
          "text": [
            "Enter deposit amount: 1500\n",
            "deposit at the end of the year: 1548.75\n"
          ]
        }
      ]
    }
  ]
}