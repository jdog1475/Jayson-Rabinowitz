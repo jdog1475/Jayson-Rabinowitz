{
  "nbformat": 4,
  "nbformat_minor": 0,
  "metadata": {
    "colab": {
      "provenance": [],
      "authorship_tag": "ABX9TyP+MFp67EpeefSdS9itTOWD",
      "include_colab_link": true
    },
    "kernelspec": {
      "name": "python3",
      "display_name": "Python 3"
    },
    "language_info": {
      "name": "python"
    }
  },
  "cells": [
    {
      "cell_type": "markdown",
      "metadata": {
        "id": "view-in-github",
        "colab_type": "text"
      },
      "source": [
        "<a href=\"https://colab.research.google.com/github/jdog1475/Jayson-Rabinowitz/blob/main/ExceptionErrors.ipynb\" target=\"_parent\"><img src=\"https://colab.research.google.com/assets/colab-badge.svg\" alt=\"Open In Colab\"/></a>"
      ]
    },
    {
      "cell_type": "code",
      "execution_count": 3,
      "metadata": {
        "colab": {
          "base_uri": "https://localhost:8080/",
          "height": 233
        },
        "id": "Sh1r30RTAXt4",
        "outputId": "63ff805f-642a-407f-974b-863aedafa235"
      },
      "outputs": [
        {
          "output_type": "stream",
          "name": "stdout",
          "text": [
            "0.6666666666666666\n"
          ]
        },
        {
          "output_type": "error",
          "ename": "ZeroDivisionError",
          "evalue": "division by zero",
          "traceback": [
            "\u001b[0;31m---------------------------------------------------------------------------\u001b[0m",
            "\u001b[0;31mZeroDivisionError\u001b[0m                         Traceback (most recent call last)",
            "\u001b[0;32m<ipython-input-3-4bfa4f879fbc>\u001b[0m in \u001b[0;36m<cell line: 7>\u001b[0;34m()\u001b[0m\n\u001b[1;32m      5\u001b[0m \u001b[0ma\u001b[0m \u001b[0;34m=\u001b[0m \u001b[0;36m2\u001b[0m\u001b[0;34m\u001b[0m\u001b[0;34m\u001b[0m\u001b[0m\n\u001b[1;32m      6\u001b[0m \u001b[0mb\u001b[0m \u001b[0;34m=\u001b[0m \u001b[0;36m0\u001b[0m\u001b[0;34m\u001b[0m\u001b[0;34m\u001b[0m\u001b[0m\n\u001b[0;32m----> 7\u001b[0;31m \u001b[0mprint\u001b[0m\u001b[0;34m(\u001b[0m\u001b[0ma\u001b[0m\u001b[0;34m/\u001b[0m\u001b[0mb\u001b[0m\u001b[0;34m)\u001b[0m\u001b[0;34m\u001b[0m\u001b[0;34m\u001b[0m\u001b[0m\n\u001b[0m\u001b[1;32m      8\u001b[0m \u001b[0;34m\u001b[0m\u001b[0m\n\u001b[1;32m      9\u001b[0m \u001b[0ma\u001b[0m \u001b[0;34m=\u001b[0m \u001b[0;34m'abc'\u001b[0m\u001b[0;34m\u001b[0m\u001b[0;34m\u001b[0m\u001b[0m\n",
            "\u001b[0;31mZeroDivisionError\u001b[0m: division by zero"
          ]
        }
      ],
      "source": [
        "a = 2\n",
        "b = 3\n",
        "print(a/b)\n",
        "\n",
        "a = 2\n",
        "b = 0\n",
        "print(a/b)\n",
        "\n",
        "a = 'abc'\n",
        "b = 3\n",
        "print(a/b)"
      ]
    },
    {
      "cell_type": "code",
      "source": [
        "1 = [1, 3, 5, 7, 9]\n",
        "\n",
        "print(1[5])"
      ],
      "metadata": {
        "colab": {
          "base_uri": "https://localhost:8080/",
          "height": 108
        },
        "id": "RWpgzTEuBt8R",
        "outputId": "dd133c04-26ef-4404-d42f-6ee1cf10a5b8"
      },
      "execution_count": 4,
      "outputs": [
        {
          "output_type": "error",
          "ename": "SyntaxError",
          "evalue": "cannot assign to literal here. Maybe you meant '==' instead of '='? (<ipython-input-4-5ef0f0ffd2ad>, line 1)",
          "traceback": [
            "\u001b[0;36m  File \u001b[0;32m\"<ipython-input-4-5ef0f0ffd2ad>\"\u001b[0;36m, line \u001b[0;32m1\u001b[0m\n\u001b[0;31m    1 = [1, 3, 5, 7, 9]\u001b[0m\n\u001b[0m    ^\u001b[0m\n\u001b[0;31mSyntaxError\u001b[0m\u001b[0;31m:\u001b[0m cannot assign to literal here. Maybe you meant '==' instead of '='?\n"
          ]
        }
      ]
    },
    {
      "cell_type": "code",
      "source": [
        "try:\n",
        "  a = float(input('enter a numerator: '))\n",
        "  b = float(input('enter a denomenator: '))\n",
        "  print(a/b)\n",
        "  print('Divsion complete!')\n",
        "except:\n",
        "    print('Error occured!')\n",
        "\n",
        "print('Program ends.')"
      ],
      "metadata": {
        "colab": {
          "base_uri": "https://localhost:8080/"
        },
        "id": "HetK31kMC44u",
        "outputId": "e66a4cf9-0b1e-4367-89ba-e18952608f0d"
      },
      "execution_count": 8,
      "outputs": [
        {
          "output_type": "stream",
          "name": "stdout",
          "text": [
            "enter a numerator: 5\n",
            "enter a denomenator: 0\n",
            "Error occured!\n",
            "Program ends.\n"
          ]
        }
      ]
    },
    {
      "cell_type": "code",
      "source": [
        "try:\n",
        "  a = float(input('enter a numerator: '))\n",
        "  b = float(input('enter a denomenator: '))\n",
        "  print(a/b)\n",
        "  print('Divsion complete!')\n",
        "except ZeroDivisionError:\n",
        "    print('Division by zero is not allowed!')\n",
        "\n",
        "print('Program ends.')"
      ],
      "metadata": {
        "colab": {
          "base_uri": "https://localhost:8080/"
        },
        "id": "cB-mMb47FAIb",
        "outputId": "8929cf74-f221-4dff-8349-5e8d58f23652"
      },
      "execution_count": 12,
      "outputs": [
        {
          "output_type": "stream",
          "name": "stdout",
          "text": [
            "enter a numerator: 5\n",
            "enter a denomenator: 0\n",
            "Division by zero is not allowed!\n",
            "Program ends.\n"
          ]
        }
      ]
    },
    {
      "cell_type": "code",
      "source": [
        "try:\n",
        "  a = float(input('enter a numerator: '))\n",
        "  b = float(input('enter a denomenator: '))\n",
        "  print(a/b)\n",
        "  print('Divsion complete!')\n",
        "except ZeroDivisionError:\n",
        "    print('Division by zero is not allowed!')\n",
        "except ValueError:\n",
        "    print('Input cannot be catsed as float!')\n",
        "\n",
        "print('Program ends.')"
      ],
      "metadata": {
        "colab": {
          "base_uri": "https://localhost:8080/"
        },
        "id": "nRGH7PfWF_Ky",
        "outputId": "3e2c5027-4aae-4300-c534-97d7e4988c72"
      },
      "execution_count": 21,
      "outputs": [
        {
          "output_type": "stream",
          "name": "stdout",
          "text": [
            "enter a numerator: 9\n",
            "enter a denomenator: abc\n",
            "Input cannot be catsed as float!\n",
            "Program ends.\n"
          ]
        }
      ]
    },
    {
      "cell_type": "code",
      "source": [
        "try:\n",
        "  a = float(input('enter a numerator: '))\n",
        "  b = float(input('enter a denomenator: '))\n",
        "  print(a/b)\n",
        "  print('Divsion complete!')\n",
        "except ZeroDivisionError:\n",
        "    print('Division by zero is not allowed!')\n",
        "except ValueError:\n",
        "    print('Input cannot be catsed as float!')\n",
        "except TypeError:\n",
        "    print('Inlavid input!')\n",
        "\n",
        "print('Program ends.')"
      ],
      "metadata": {
        "colab": {
          "base_uri": "https://localhost:8080/"
        },
        "id": "FJf15WkwGkuL",
        "outputId": "8c42773d-3288-46c5-b950-079993d66a29"
      },
      "execution_count": 19,
      "outputs": [
        {
          "output_type": "stream",
          "name": "stdout",
          "text": [
            "enter a numerator: 7\n",
            "enter a denomenator: ('abc)\n",
            "Input cannot be catsed as float!\n",
            "Program ends.\n"
          ]
        }
      ]
    },
    {
      "cell_type": "code",
      "source": [
        "try:\n",
        "  a = float(input('enter a numerator: '))\n",
        "  b = float(input('enter a denomenator: '))\n",
        "  print(a/b)\n",
        "  print('Divsion complete!')\n",
        "except ZeroDivisionError:\n",
        "    print('Division by zero is not allowed!')\n",
        "except ValueError:\n",
        "    print('Input cannot be catsed as float!')\n",
        "except TypeError:\n",
        "    print('Inlavid input!')\n",
        "except:\n",
        "    print('Unknown error!')\n",
        "\n",
        "print('Program ends.')"
      ],
      "metadata": {
        "colab": {
          "base_uri": "https://localhost:8080/"
        },
        "id": "GJ4skk9LGzmP",
        "outputId": "066713ad-b269-4736-9da2-fc80c9b1d5c6"
      },
      "execution_count": 18,
      "outputs": [
        {
          "output_type": "stream",
          "name": "stdout",
          "text": [
            "enter a numerator: 0\n",
            "enter a denomenator: $\n",
            "Input cannot be catsed as float!\n",
            "Program ends.\n"
          ]
        }
      ]
    },
    {
      "cell_type": "code",
      "source": [
        "l = [1, 3, 5, 7, 9]\n",
        "\n",
        "try:\n",
        "    idx = int(input('Enter an index: '))\n",
        "    print(l[idx])\n",
        "except IndexError:\n",
        "    print('Index out of bounds!')\n"
      ],
      "metadata": {
        "colab": {
          "base_uri": "https://localhost:8080/"
        },
        "id": "ovEhDxrjId6m",
        "outputId": "c075197c-352b-497c-de8f-cfb149a13d53"
      },
      "execution_count": 26,
      "outputs": [
        {
          "output_type": "stream",
          "name": "stdout",
          "text": [
            "Enter an index: 30\n",
            "Index out of bounds!\n"
          ]
        }
      ]
    }
  ]
}